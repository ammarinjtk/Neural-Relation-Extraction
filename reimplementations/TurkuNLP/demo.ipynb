{
 "cells": [
  {
   "cell_type": "code",
   "execution_count": 1,
   "metadata": {},
   "outputs": [],
   "source": [
    "%matplotlib inline\n",
    "\n",
    "%load_ext autoreload\n",
    "%autoreload 2\n",
    "\n",
    "from imports import *\n",
    "from utils import *\n",
    "from constants import *\n",
    "from models import *\n",
    "from trains import train_model\n",
    "from predicts import predict_model\n",
    "\n",
    "torch.cuda.set_device(0)\n",
    "\n",
    "import os\n",
    "os.environ[\"CUDA_VISIBLE_DEVICES\"] = \"0\""
   ]
  },
  {
   "cell_type": "code",
   "execution_count": 2,
   "metadata": {},
   "outputs": [],
   "source": [
    "torch.cuda.manual_seed_all(239387)\n",
    "torch.manual_seed(239387)\n",
    "random.seed(239387)\n",
    "np.random.seed(239387)"
   ]
  },
  {
   "cell_type": "code",
   "execution_count": 6,
   "metadata": {},
   "outputs": [],
   "source": [
    "dataloaders = {}\n",
    "\n",
    "with open(\"./data/preprocessed_BB/train.json\", \"r\") as read_file:\n",
    "    dataloaders['train'] = json.load(read_file)\n",
    "\n",
    "with open(\"./data/preprocessed_BB/dev.json\", \"r\") as read_file:\n",
    "    dataloaders['dev'] = json.load(read_file)\n",
    "\n",
    "with open(\"./data/preprocessed_BB/test.json\", \"r\") as read_file:\n",
    "    dataloaders['test'] = json.load(read_file)"
   ]
  },
  {
   "cell_type": "code",
   "execution_count": 9,
   "metadata": {},
   "outputs": [],
   "source": [
    "# Load w2v model\n",
    "w2v_model = word2vec.KeyedVectors.load_word2vec_format(\"/home/mind/ammarinjtk/wikipedia-pubmed-and-PMC-w2v.bin\", binary=True)"
   ]
  },
  {
   "cell_type": "code",
   "execution_count": null,
   "metadata": {},
   "outputs": [],
   "source": []
  }
 ],
 "metadata": {
  "kernelspec": {
   "display_name": "pytorch",
   "language": "python",
   "name": "pytorch"
  },
  "language_info": {
   "codemirror_mode": {
    "name": "ipython",
    "version": 3
   },
   "file_extension": ".py",
   "mimetype": "text/x-python",
   "name": "python",
   "nbconvert_exporter": "python",
   "pygments_lexer": "ipython3",
   "version": "3.6.8"
  }
 },
 "nbformat": 4,
 "nbformat_minor": 2
}
